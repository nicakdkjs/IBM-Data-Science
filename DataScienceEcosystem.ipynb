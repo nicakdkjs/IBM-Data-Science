{
  "cells": [
    {
      "cell_type": "markdown",
      "metadata": {
        "id": "_NNfgO2b7mhd"
      },
      "source": [
        "<center>\n",
        "    <img src=\"https://cf-courses-data.s3.us.cloud-object-storage.appdomain.cloud/IBMDeveloperSkillsNetwork-DS0105EN-SkillsNetwork/labs/Module2/images/SN_web_lightmode.png\" width=\"300\" alt=\"cognitiveclass.ai logo\">\n",
        "</center>\n"
      ]
    },
    {
      "cell_type": "markdown",
      "metadata": {
        "id": "vJ3bvadv7mhe"
      },
      "source": [
        "#### Add your code below following the instructions given in the course\n"
      ]
    },
    {
      "cell_type": "markdown",
      "source": [
        "<h1> Data Science Tools and Ecosystem </h1>"
      ],
      "metadata": {
        "id": "2qVOJ_KY74AU"
      }
    },
    {
      "cell_type": "markdown",
      "source": [
        "\n",
        "**Objectives:**\n",
        "<ul> <li>List popular languages for Data Science</li><li>List commonly used libraries used by Data Scientists</li> <li> List a few examples of evaluating arithmetic expressions in Python </li> <li> Create a code cell to multiply and add numbers</li> </ul>\n"
      ],
      "metadata": {
        "id": "VEItyUXBGOQY"
      }
    },
    {
      "cell_type": "markdown",
      "source": [
        "In this notebook, Data Science Tools and Ecosystem are summarized."
      ],
      "metadata": {
        "id": "l2swdc188B-I"
      }
    },
    {
      "cell_type": "markdown",
      "source": [
        "Some of the popular languages that Data Scientists use are:\n",
        "<ol> <li> python </li> <li> R </li> <li> Julia </li> </ol>"
      ],
      "metadata": {
        "id": "pppNJm-a8ISs"
      }
    },
    {
      "cell_type": "markdown",
      "source": [
        "Some of the commonly used libraries used by Data Scientists include:\n",
        "<ol> <li> NumPy </li> <li> Pandas</li> <li>Matplotlib</li> <li>Seaborn\n",
        "</li> </ol>"
      ],
      "metadata": {
        "id": "kjVoYi6u8ftT"
      }
    },
    {
      "cell_type": "markdown",
      "source": [
        "<table>\n",
        "  <tr>\n",
        "    <th>Data Science Tools</th>\n",
        "  </tr>\n",
        "  <tr>\n",
        "    <td>Jupyter Notebook</td>\n",
        "  </tr>\n",
        "  <tr>\n",
        "    <td>RStudio</td>\n",
        "  </tr>\n",
        "  <tr>\n",
        "    <td>VS Code</td>\n",
        "  </tr>\n",
        "</table>"
      ],
      "metadata": {
        "id": "MTLD0tTfEC_o"
      }
    },
    {
      "cell_type": "markdown",
      "source": [
        "<h3>Below are a few examples of evaluating arithmetic expressions in Python</h3>\n",
        "\n",
        "result = 7 - 4\n",
        "\n",
        "result = 6 * 2\n",
        "\n",
        "result = 10 / 2\n"
      ],
      "metadata": {
        "id": "sZygqHqfEzYU"
      }
    },
    {
      "cell_type": "code",
      "source": [
        "#This a simple arithmetic expression to mutiply then add integers\n",
        "print((3*4)+5)"
      ],
      "metadata": {
        "colab": {
          "base_uri": "https://localhost:8080/"
        },
        "id": "MguzUz1V77nq",
        "outputId": "40ed61f7-2591-4bd2-b256-8d4cb36e07fa"
      },
      "execution_count": 3,
      "outputs": [
        {
          "output_type": "stream",
          "name": "stdout",
          "text": [
            "17\n"
          ]
        }
      ]
    },
    {
      "cell_type": "code",
      "source": [
        "#this will convert 200 minutes to hours by diving by 60\n",
        "print((200/60),'hours')"
      ],
      "metadata": {
        "colab": {
          "base_uri": "https://localhost:8080/"
        },
        "id": "KqCFQbmlFI2o",
        "outputId": "21790289-f79d-4056-aa82-4ac8c0e6663e"
      },
      "execution_count": 5,
      "outputs": [
        {
          "output_type": "stream",
          "name": "stdout",
          "text": [
            "3.3333333333333335 hours\n"
          ]
        }
      ]
    },
    {
      "cell_type": "markdown",
      "source": [
        "\n",
        "<h2> Author </h2>\n",
        "Ng Nicole"
      ],
      "metadata": {
        "id": "zKII-TZ-FwTy"
      }
    }
  ],
  "metadata": {
    "kernelspec": {
      "display_name": "Python",
      "language": "python",
      "name": "conda-env-python-py"
    },
    "language_info": {
      "name": ""
    },
    "colab": {
      "provenance": []
    }
  },
  "nbformat": 4,
  "nbformat_minor": 0
}